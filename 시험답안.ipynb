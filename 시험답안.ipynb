{
  "nbformat": 4,
  "nbformat_minor": 0,
  "metadata": {
    "colab": {
      "name": "시험답안.ipynb",
      "provenance": [],
      "authorship_tag": "ABX9TyMpD81KiLzBa/dqn5FdrbtA",
      "include_colab_link": true
    },
    "kernelspec": {
      "name": "python3",
      "display_name": "Python 3"
    },
    "language_info": {
      "name": "python"
    }
  },
  "cells": [
    {
      "cell_type": "markdown",
      "metadata": {
        "id": "view-in-github",
        "colab_type": "text"
      },
      "source": [
        "<a href=\"https://colab.research.google.com/github/seojungchul114/pythonclass/blob/main/%EC%8B%9C%ED%97%98%EB%8B%B5%EC%95%88.ipynb\" target=\"_parent\"><img src=\"https://colab.research.google.com/assets/colab-badge.svg\" alt=\"Open In Colab\"/></a>"
      ]
    },
    {
      "cell_type": "markdown",
      "source": [
        ""
      ],
      "metadata": {
        "id": "NTk4rygsLyup"
      }
    },
    {
      "cell_type": "markdown",
      "source": [
        ""
      ],
      "metadata": {
        "id": "poAQUDCkU_QY"
      }
    },
    {
      "cell_type": "markdown",
      "source": [
        "# 가상머신에 대한 설명\n",
        "\n",
        "\n",
        "* 1. 파이썬은 하이레벨 프로그렘 랭귀지로 배우기 쉽고 다른 언어에 비해 비교적 간단해서 개발 속도가 빠르다 할수 있다.\n",
        "\n",
        "* 예를 들면\n",
        "C 언어에서 \"여보세요...\"를 출력 하려면\n",
        "\n",
        "\n",
        "* include<stdio.h>\n",
        "\n",
        "int.main()\n",
        "{print(\"여보세요...\") ;\n",
        "return 0 ;\n",
        "\n",
        "}\n",
        "\n",
        "* 파이썬 에서는 print(\"여보세요...\") 라고 간단하게 쓸수 있게 머신 내부에 이미 구성되 있다.\n",
        "\n",
        "* 2. 데이터 처리 속도가 빠르다. 그이유는 함수 사용에 있어서 다른 언어에 비해 캐시 메모리를 효율적으로 사용한다.\n",
        "왜냐 하면 데이터의 해드의 주소 값과 변수 값만 가지기 때문이다.\n",
        "\n",
        "* 3. 파이썬은 모든 다른 언어의 장점만을 따서 만들었다. C 언어나 Html, 리눅스, 자바 스크립트, 등에서 쓰는 유용한 방식을 통합 했다고 보면 된다. 구글의 역작 이라 보면 된다.\n",
        "\n",
        "\n",
        "\n",
        "# 람다 함수의 정의와 구현 사례\n",
        "\n",
        "일반 적으로 함수를 쓸때 함수 표현 형식에 따라 쓰고 실행한다.그런데 이람다 함수는 Anonymous funcion 이라고 하는데 함수 이름이 없이 사용한다.lambda 함수를 쓰고 콜론(:)을 쓴다\n",
        "예를 들어\n",
        "lambda x : x 라고 쓰고 실행 하면\n",
        "<function __main__.<lambda>(x) 로 표현 된다.\n",
        "\n",
        "여기에 (lambda x : x)(5) 하면 5를 출력한다.\n",
        "\n",
        "\n",
        "실제 사용 사례는 다음과 같다.\n",
        "\n",
        "\n",
        "\n",
        "\n",
        "\n"
      ],
      "metadata": {
        "id": "Ozw2wM9PVBzI"
      }
    },
    {
      "cell_type": "code",
      "source": [
        "l = [1, 2, 3, 4 ]"
      ],
      "metadata": {
        "id": "pnGH-et1vIAo"
      },
      "execution_count": null,
      "outputs": []
    },
    {
      "cell_type": "code",
      "source": [
        "\n",
        "\n",
        "for i in map(lambda x : x*x, l) :\n",
        "  print(i)"
      ],
      "metadata": {
        "id": "a1OGWt3xODWY",
        "colab": {
          "base_uri": "https://localhost:8080/"
        },
        "outputId": "3539d654-a8a5-4313-d4f0-57b0954ce8a2"
      },
      "execution_count": null,
      "outputs": [
        {
          "output_type": "stream",
          "name": "stdout",
          "text": [
            "1\n",
            "4\n",
            "9\n",
            "16\n"
          ]
        }
      ]
    }
  ]
}